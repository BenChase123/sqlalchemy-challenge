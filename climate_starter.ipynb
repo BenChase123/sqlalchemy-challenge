{
 "cells": [
  {
   "cell_type": "code",
   "execution_count": 40,
   "metadata": {},
   "outputs": [],
   "source": [
    "%matplotlib inline\n",
    "from matplotlib import style\n",
    "style.use('fivethirtyeight')\n",
    "import matplotlib.pyplot as plt\n",
    "from sqlalchemy.orm import Session"
   ]
  },
  {
   "cell_type": "code",
   "execution_count": 41,
   "metadata": {},
   "outputs": [],
   "source": [
    "import numpy as np\n",
    "import pandas as pd"
   ]
  },
  {
   "cell_type": "code",
   "execution_count": 42,
   "metadata": {},
   "outputs": [],
   "source": [
    "import datetime as dt"
   ]
  },
  {
   "cell_type": "markdown",
   "metadata": {},
   "source": [
    "# Reflect Tables into SQLAlchemy ORM"
   ]
  },
  {
   "cell_type": "code",
   "execution_count": 43,
   "metadata": {},
   "outputs": [],
   "source": [
    "# Python SQL toolkit and Object Relational Mapper\n",
    "import sqlalchemy\n",
    "from sqlalchemy.ext.automap import automap_base\n",
    "from sqlalchemy.orm import Session\n",
    "from sqlalchemy import create_engine, func"
   ]
  },
  {
   "cell_type": "code",
   "execution_count": 44,
   "metadata": {},
   "outputs": [],
   "source": [
    "engine = create_engine(\"sqlite:///./Resources/hawaii.sqlite\")\n",
    "conn = engine.connect()"
   ]
  },
  {
   "cell_type": "code",
   "execution_count": 45,
   "metadata": {},
   "outputs": [],
   "source": [
    "# reflect an existing database into a new model\n",
    "# Query All Records in the the Database\n",
    "\n",
    "#reflect the tables\n",
    "Base = automap_base()\n",
    "Base.prepare(engine, reflect=True)"
   ]
  },
  {
   "cell_type": "code",
   "execution_count": 46,
   "metadata": {},
   "outputs": [
    {
     "data": {
      "text/plain": [
       "['measurement', 'station']"
      ]
     },
     "execution_count": 46,
     "metadata": {},
     "output_type": "execute_result"
    }
   ],
   "source": [
    "# We can view all of the classes that automap found\n",
    "Base.classes.keys()"
   ]
  },
  {
   "cell_type": "code",
   "execution_count": 47,
   "metadata": {},
   "outputs": [
    {
     "data": {
      "text/plain": [
       "sqlalchemy.ext.automap.station"
      ]
     },
     "execution_count": 47,
     "metadata": {},
     "output_type": "execute_result"
    }
   ],
   "source": [
    "# Save references to each table\n",
    "Measurement = Base.classes.measurement\n",
    "Station = Base.classes.station\n",
    "Station"
   ]
  },
  {
   "cell_type": "code",
   "execution_count": 48,
   "metadata": {},
   "outputs": [
    {
     "data": {
      "text/plain": [
       "<sqlalchemy.engine.result.ResultProxy at 0x29ef60528d0>"
      ]
     },
     "execution_count": 48,
     "metadata": {},
     "output_type": "execute_result"
    }
   ],
   "source": [
    "# Create our session (link) from Python to the DB\n",
    "data = engine.execute(\"SELECT * FROM measurement\")\n",
    "data"
   ]
  },
  {
   "cell_type": "code",
   "execution_count": 49,
   "metadata": {},
   "outputs": [
    {
     "data": {
      "text/html": [
       "<div>\n",
       "<style scoped>\n",
       "    .dataframe tbody tr th:only-of-type {\n",
       "        vertical-align: middle;\n",
       "    }\n",
       "\n",
       "    .dataframe tbody tr th {\n",
       "        vertical-align: top;\n",
       "    }\n",
       "\n",
       "    .dataframe thead th {\n",
       "        text-align: right;\n",
       "    }\n",
       "</style>\n",
       "<table border=\"1\" class=\"dataframe\">\n",
       "  <thead>\n",
       "    <tr style=\"text-align: right;\">\n",
       "      <th></th>\n",
       "      <th>id</th>\n",
       "      <th>station</th>\n",
       "      <th>date</th>\n",
       "      <th>prcp</th>\n",
       "      <th>tobs</th>\n",
       "    </tr>\n",
       "  </thead>\n",
       "  <tbody>\n",
       "    <tr>\n",
       "      <th>0</th>\n",
       "      <td>1</td>\n",
       "      <td>USC00519397</td>\n",
       "      <td>2010-01-01</td>\n",
       "      <td>0.08</td>\n",
       "      <td>65.0</td>\n",
       "    </tr>\n",
       "    <tr>\n",
       "      <th>1</th>\n",
       "      <td>2</td>\n",
       "      <td>USC00519397</td>\n",
       "      <td>2010-01-02</td>\n",
       "      <td>0.00</td>\n",
       "      <td>63.0</td>\n",
       "    </tr>\n",
       "    <tr>\n",
       "      <th>2</th>\n",
       "      <td>3</td>\n",
       "      <td>USC00519397</td>\n",
       "      <td>2010-01-03</td>\n",
       "      <td>0.00</td>\n",
       "      <td>74.0</td>\n",
       "    </tr>\n",
       "    <tr>\n",
       "      <th>3</th>\n",
       "      <td>4</td>\n",
       "      <td>USC00519397</td>\n",
       "      <td>2010-01-04</td>\n",
       "      <td>0.00</td>\n",
       "      <td>76.0</td>\n",
       "    </tr>\n",
       "    <tr>\n",
       "      <th>4</th>\n",
       "      <td>5</td>\n",
       "      <td>USC00519397</td>\n",
       "      <td>2010-01-06</td>\n",
       "      <td>NaN</td>\n",
       "      <td>73.0</td>\n",
       "    </tr>\n",
       "  </tbody>\n",
       "</table>\n",
       "</div>"
      ],
      "text/plain": [
       "   id      station        date  prcp  tobs\n",
       "0   1  USC00519397  2010-01-01  0.08  65.0\n",
       "1   2  USC00519397  2010-01-02  0.00  63.0\n",
       "2   3  USC00519397  2010-01-03  0.00  74.0\n",
       "3   4  USC00519397  2010-01-04  0.00  76.0\n",
       "4   5  USC00519397  2010-01-06   NaN  73.0"
      ]
     },
     "execution_count": 49,
     "metadata": {},
     "output_type": "execute_result"
    }
   ],
   "source": [
    "# Query All Records in the the Database\n",
    "data = pd.read_sql(\"SELECT * FROM measurement\", conn)\n",
    "data.head()"
   ]
  },
  {
   "cell_type": "code",
   "execution_count": 50,
   "metadata": {},
   "outputs": [],
   "source": [
    "session = Session(bind=engine)"
   ]
  },
  {
   "cell_type": "markdown",
   "metadata": {},
   "source": [
    "# Exploratory Climate Analysis"
   ]
  },
  {
   "cell_type": "code",
   "execution_count": 54,
   "metadata": {},
   "outputs": [
    {
     "data": {
      "image/png": "[encoded data removed]",
      "text/plain": [
       "<Figure size 432x288 with 1 Axes>"
      ]
     },
     "metadata": {},
     "output_type": "display_data"
    },
    {
     "name": "stderr",
     "output_type": "stream",
     "text": [
      "C:\\Users\\15037\\anaconda3\\envs\\PythonData\\lib\\site-packages\\pandas\\plotting\\_matplotlib\\core.py:1192: UserWarning: FixedFormatter should only be used together with FixedLocator\n",
      "  ax.set_xticklabels(xticklabels)\n"
     ]
    },
    {
     "data": {
      "text/plain": [
       "<AxesSubplot:xlabel='date'>"
      ]
     },
     "execution_count": 54,
     "metadata": {},
     "output_type": "execute_result"
    },
    {
     "data": {
      "image/png": "[encoded data removed]",
      "text/plain": [
       "<Figure size 432x288 with 1 Axes>"
      ]
     },
     "metadata": {},
     "output_type": "display_data"
    }
   ],
   "source": [
    "# Calculate the date 1 year ago from the last data point in the database\n",
    "import time\n",
    "import calendar\n",
    "\n",
    "measurements = session.query(Measurement)\n",
    "measurement_dates = []\n",
    "for measurement in measurements:\n",
    "  measurement_dates.append(measurement.date)  \n",
    "\n",
    "date = measurement_dates[-1]\n",
    "\n",
    "import datetime\n",
    "from dateutil.relativedelta import relativedelta\n",
    "d = datetime.datetime.strptime(date, '%Y-%m-%d').date()\n",
    "year_before = (d - relativedelta(years=1)).strftime('%Y-%m-%d')\n",
    "\n",
    "# Design a query to retrieve the last 12 months of precipitation data and plot the results\n",
    "\n",
    "measurements = session.query(Measurement).filter(Measurement.date >= year_before).all()\n",
    "measurement_dates = []\n",
    "measurement_prcp = []\n",
    "\n",
    "for measurement in measurements:\n",
    "    measurement_dates.append(measurement.date)\n",
    "    measurement_prcp.append(measurement.prcp)\n",
    "    \n",
    "plt.scatter(measurement_dates,measurement_prcp,marker=\"o\")\n",
    "plt.title(f\"Last 12 months of weather data versus precipitation\")\n",
    "plt.ylabel(\"Precipitation (Inches)\")\n",
    "plt.xlabel(\"Date\")\n",
    "plt.show()  \n",
    "    \n",
    "# Perform a query to retrieve the data and precipitation scores\n",
    "\n",
    "measurements = session.query(Measurement)\n",
    "dates = []\n",
    "prcp = []\n",
    "\n",
    "for measurement in measurements:\n",
    "    dates.append(measurement.date)\n",
    "    prcp.append(measurement.prcp)\n",
    "\n",
    "# Save the query results as a Pandas DataFrame and set the index to the date column\n",
    "\n",
    "prcp_df = pd.DataFrame({'date' : dates, 'prcp' : prcp})\n",
    "prcp_df = prcp_df.set_index('date')\n",
    "prcp_df\n",
    "\n",
    "# Sort the dataframe by date\n",
    "\n",
    "prcp_df = prcp_df.sort_index(ascending = True)\n",
    "prcp_df.head()\n",
    "\n",
    "# Use Pandas Plotting with Matplotlib to plot the data\n",
    "\n",
    "prcp_df.plot(y='prcp')"
   ]
  },
  {
   "cell_type": "code",
   "execution_count": 55,
   "metadata": {},
   "outputs": [
    {
     "data": {
      "image/png": "[encoded data removed]",
      "text/plain": [
       "<Figure size 432x288 with 1 Axes>"
      ]
     },
     "metadata": {},
     "output_type": "display_data"
    },
    {
     "name": "stdout",
     "output_type": "stream",
     "text": [
      "The mean is 0.16064353974479367 inches\n",
      "The median is 0.01 inches\n",
      "The mode is 0    0.0\n",
      "dtype: float64\n"
     ]
    }
   ],
   "source": [
    "# Use Pandas to calcualte the summary statistics for the precipitation data\n",
    "# Determine which measure of central tendency is most appropriate to describe the precipitation\n",
    "plt.hist(prcp_df['prcp'],bins=50,range = [0,1])\n",
    "plt.xlabel('prcp')\n",
    "plt.ylabel('Counts')\n",
    "plt.show()\n",
    "print(f\"The mean is {prcp_df['prcp'].mean()} inches\")\n",
    "print(f\"The median is {prcp_df['prcp'].median()} inches\")\n",
    "print(f\"The mode is {prcp_df['prcp'].mode()}\")\n",
    "\n",
    "# The median is most appropriate to describe measure of central tendency"
   ]
  },
  {
   "cell_type": "code",
   "execution_count": 56,
   "metadata": {},
   "outputs": [
    {
     "data": {
      "text/plain": [
       "count    18103.000000\n",
       "mean         0.160644\n",
       "std          0.468746\n",
       "min          0.000000\n",
       "25%          0.000000\n",
       "50%          0.010000\n",
       "75%          0.110000\n",
       "max         11.530000\n",
       "Name: prcp, dtype: float64"
      ]
     },
     "execution_count": 56,
     "metadata": {},
     "output_type": "execute_result"
    }
   ],
   "source": [
    "prcp_df['prcp'].describe()"
   ]
  },
  {
   "cell_type": "code",
   "execution_count": 57,
   "metadata": {},
   "outputs": [
    {
     "name": "stdout",
     "output_type": "stream",
     "text": [
      "(1, 'USC00519397', 'WAIKIKI 717.2, HI US', 21.2716, -157.8168, 3.0)\n",
      "(2, 'USC00513117', 'KANEOHE 838.1, HI US', 21.4234, -157.8015, 14.6)\n",
      "(3, 'USC00514830', 'KUALOA RANCH HEADQUARTERS 886.9, HI US', 21.5213, -157.8374, 7.0)\n",
      "(4, 'USC00517948', 'PEARL CITY, HI US', 21.3934, -157.9751, 11.9)\n",
      "(5, 'USC00518838', 'UPPER WAHIAWA 874.3, HI US', 21.4992, -158.0111, 306.6)\n",
      "(6, 'USC00519523', 'WAIMANALO EXPERIMENTAL FARM, HI US', 21.33556, -157.71139, 19.5)\n",
      "(7, 'USC00519281', 'WAIHEE 837.5, HI US', 21.45167, -157.84888999999998, 32.9)\n",
      "(8, 'USC00511918', 'HONOLULU OBSERVATORY 702.2, HI US', 21.3152, -157.9992, 0.9)\n",
      "(9, 'USC00516128', 'MANOA LYON ARBO 785.2, HI US', 21.3331, -157.8025, 152.4)\n"
     ]
    }
   ],
   "source": [
    "data = engine.execute(\"SELECT * FROM station\")\n",
    "for record in data:\n",
    "      print(record)"
   ]
  },
  {
   "cell_type": "code",
   "execution_count": 58,
   "metadata": {},
   "outputs": [
    {
     "name": "stdout",
     "output_type": "stream",
     "text": [
      "9\n"
     ]
    }
   ],
   "source": [
    "# Design a query to show how many stations are available in this dataset?\n",
    "station = session.query(Station).count()\n",
    "print(station)"
   ]
  },
  {
   "cell_type": "code",
   "execution_count": 59,
   "metadata": {},
   "outputs": [
    {
     "data": {
      "text/html": [
       "<div>\n",
       "<style scoped>\n",
       "    .dataframe tbody tr th:only-of-type {\n",
       "        vertical-align: middle;\n",
       "    }\n",
       "\n",
       "    .dataframe tbody tr th {\n",
       "        vertical-align: top;\n",
       "    }\n",
       "\n",
       "    .dataframe thead th {\n",
       "        text-align: right;\n",
       "    }\n",
       "</style>\n",
       "<table border=\"1\" class=\"dataframe\">\n",
       "  <thead>\n",
       "    <tr style=\"text-align: right;\">\n",
       "      <th></th>\n",
       "      <th>station</th>\n",
       "      <th>activity count</th>\n",
       "    </tr>\n",
       "  </thead>\n",
       "  <tbody>\n",
       "    <tr>\n",
       "      <th>6</th>\n",
       "      <td>USC00519281</td>\n",
       "      <td>2772</td>\n",
       "    </tr>\n",
       "    <tr>\n",
       "      <th>0</th>\n",
       "      <td>USC00519397</td>\n",
       "      <td>2724</td>\n",
       "    </tr>\n",
       "    <tr>\n",
       "      <th>1</th>\n",
       "      <td>USC00513117</td>\n",
       "      <td>2709</td>\n",
       "    </tr>\n",
       "    <tr>\n",
       "      <th>5</th>\n",
       "      <td>USC00519523</td>\n",
       "      <td>2669</td>\n",
       "    </tr>\n",
       "    <tr>\n",
       "      <th>8</th>\n",
       "      <td>USC00516128</td>\n",
       "      <td>2612</td>\n",
       "    </tr>\n",
       "  </tbody>\n",
       "</table>\n",
       "</div>"
      ],
      "text/plain": [
       "       station  activity count\n",
       "6  USC00519281            2772\n",
       "0  USC00519397            2724\n",
       "1  USC00513117            2709\n",
       "5  USC00519523            2669\n",
       "8  USC00516128            2612"
      ]
     },
     "execution_count": 59,
     "metadata": {},
     "output_type": "execute_result"
    }
   ],
   "source": [
    "# What are the most active stations? (i.e. what stations have the most rows)?\n",
    "station = []\n",
    "station_activity = []\n",
    "data = engine.execute(\"SELECT * FROM station\")\n",
    "for record in data:\n",
    "      station.append(record.station)\n",
    "      station_count = session.query(Measurement).filter_by(station=record.station).count()\n",
    "      station_activity.append(station_count)\n",
    "        \n",
    "# List the stations and the counts in descending order.\n",
    "\n",
    "station_count = pd.DataFrame({'station' : station,'activity count' : station_activity})\n",
    "station_count = station_count.sort_values(by = [\"activity count\"],ascending=False)\n",
    "station_count.head()"
   ]
  },
  {
   "cell_type": "code",
   "execution_count": 60,
   "metadata": {},
   "outputs": [],
   "source": [
    "station_id = station_count.iloc[0].values[0]"
   ]
  },
  {
   "cell_type": "code",
   "execution_count": 61,
   "metadata": {},
   "outputs": [],
   "source": [
    "# Using the station id from the previous query, calculate the lowest temperature recorded, \n",
    "# highest temperature recorded, and average temperature of the most active station?\n",
    "\n",
    "temps = []\n",
    "measurements = session.query(Measurement).filter_by(station=station_id) \n",
    "for measurement in measurements:\n",
    "    temps.append(measurement.tobs)"
   ]
  },
  {
   "cell_type": "code",
   "execution_count": 62,
   "metadata": {},
   "outputs": [
    {
     "data": {
      "text/plain": [
       "54.0"
      ]
     },
     "execution_count": 62,
     "metadata": {},
     "output_type": "execute_result"
    }
   ],
   "source": [
    "min(temps)"
   ]
  },
  {
   "cell_type": "code",
   "execution_count": 63,
   "metadata": {},
   "outputs": [
    {
     "data": {
      "text/plain": [
       "85.0"
      ]
     },
     "execution_count": 63,
     "metadata": {},
     "output_type": "execute_result"
    }
   ],
   "source": [
    "max(temps)"
   ]
  },
  {
   "cell_type": "code",
   "execution_count": 64,
   "metadata": {},
   "outputs": [
    {
     "data": {
      "text/plain": [
       "71.66378066378067"
      ]
     },
     "execution_count": 64,
     "metadata": {},
     "output_type": "execute_result"
    }
   ],
   "source": [
    "import numpy as np \n",
    "np.mean(temps)"
   ]
  },
  {
   "cell_type": "code",
   "execution_count": 65,
   "metadata": {},
   "outputs": [
    {
     "name": "stdout",
     "output_type": "stream",
     "text": [
      "USC00519281 : 2016-08-23 : 77.0\n",
      "USC00519281 : 2016-08-24 : 77.0\n",
      "USC00519281 : 2016-08-25 : 80.0\n",
      "USC00519281 : 2016-08-26 : 80.0\n",
      "USC00519281 : 2016-08-27 : 75.0\n",
      "USC00519281 : 2016-08-28 : 73.0\n",
      "USC00519281 : 2016-08-29 : 78.0\n",
      "USC00519281 : 2016-08-30 : 77.0\n",
      "USC00519281 : 2016-08-31 : 78.0\n",
      "USC00519281 : 2016-09-01 : 80.0\n",
      "USC00519281 : 2016-09-02 : 80.0\n",
      "USC00519281 : 2016-09-03 : 78.0\n",
      "USC00519281 : 2016-09-04 : 78.0\n",
      "USC00519281 : 2016-09-05 : 78.0\n",
      "USC00519281 : 2016-09-06 : 73.0\n",
      "USC00519281 : 2016-09-07 : 74.0\n",
      "USC00519281 : 2016-09-08 : 80.0\n",
      "USC00519281 : 2016-09-09 : 79.0\n",
      "USC00519281 : 2016-09-10 : 77.0\n",
      "USC00519281 : 2016-09-11 : 80.0\n",
      "USC00519281 : 2016-09-12 : 76.0\n",
      "USC00519281 : 2016-09-13 : 79.0\n",
      "USC00519281 : 2016-09-14 : 75.0\n",
      "USC00519281 : 2016-09-15 : 79.0\n",
      "USC00519281 : 2016-09-16 : 78.0\n",
      "USC00519281 : 2016-09-17 : 79.0\n",
      "USC00519281 : 2016-09-18 : 78.0\n",
      "USC00519281 : 2016-09-19 : 78.0\n",
      "USC00519281 : 2016-09-20 : 76.0\n",
      "USC00519281 : 2016-09-21 : 74.0\n",
      "USC00519281 : 2016-09-22 : 77.0\n",
      "USC00519281 : 2016-09-23 : 78.0\n",
      "USC00519281 : 2016-09-24 : 79.0\n",
      "USC00519281 : 2016-09-25 : 79.0\n",
      "USC00519281 : 2016-09-26 : 77.0\n",
      "USC00519281 : 2016-09-27 : 80.0\n",
      "USC00519281 : 2016-09-28 : 78.0\n",
      "USC00519281 : 2016-09-29 : 78.0\n",
      "USC00519281 : 2016-09-30 : 78.0\n",
      "USC00519281 : 2016-10-01 : 77.0\n",
      "USC00519281 : 2016-10-02 : 79.0\n",
      "USC00519281 : 2016-10-03 : 79.0\n",
      "USC00519281 : 2016-10-04 : 79.0\n",
      "USC00519281 : 2016-10-05 : 79.0\n",
      "USC00519281 : 2016-10-06 : 75.0\n",
      "USC00519281 : 2016-10-07 : 76.0\n",
      "USC00519281 : 2016-10-08 : 73.0\n",
      "USC00519281 : 2016-10-09 : 72.0\n",
      "USC00519281 : 2016-10-10 : 71.0\n",
      "USC00519281 : 2016-10-11 : 77.0\n",
      "USC00519281 : 2016-10-12 : 79.0\n",
      "USC00519281 : 2016-10-13 : 78.0\n",
      "USC00519281 : 2016-10-14 : 79.0\n",
      "USC00519281 : 2016-10-15 : 77.0\n",
      "USC00519281 : 2016-10-16 : 79.0\n",
      "USC00519281 : 2016-10-17 : 77.0\n",
      "USC00519281 : 2016-10-18 : 78.0\n",
      "USC00519281 : 2016-10-19 : 78.0\n",
      "USC00519281 : 2016-10-20 : 78.0\n",
      "USC00519281 : 2016-10-21 : 78.0\n",
      "USC00519281 : 2016-10-22 : 77.0\n",
      "USC00519281 : 2016-10-23 : 74.0\n",
      "USC00519281 : 2016-10-24 : 75.0\n",
      "USC00519281 : 2016-10-25 : 76.0\n",
      "USC00519281 : 2016-10-26 : 73.0\n",
      "USC00519281 : 2016-10-27 : 76.0\n",
      "USC00519281 : 2016-10-28 : 74.0\n",
      "USC00519281 : 2016-10-29 : 77.0\n",
      "USC00519281 : 2016-10-30 : 76.0\n",
      "USC00519281 : 2016-10-31 : 76.0\n",
      "USC00519281 : 2016-11-01 : 74.0\n",
      "USC00519281 : 2016-11-02 : 75.0\n",
      "USC00519281 : 2016-11-03 : 75.0\n",
      "USC00519281 : 2016-11-04 : 75.0\n",
      "USC00519281 : 2016-11-05 : 75.0\n",
      "USC00519281 : 2016-11-06 : 71.0\n",
      "USC00519281 : 2016-11-07 : 63.0\n",
      "USC00519281 : 2016-11-08 : 70.0\n",
      "USC00519281 : 2016-11-09 : 68.0\n",
      "USC00519281 : 2016-11-10 : 67.0\n",
      "USC00519281 : 2016-11-11 : 77.0\n",
      "USC00519281 : 2016-11-12 : 74.0\n",
      "USC00519281 : 2016-11-13 : 77.0\n",
      "USC00519281 : 2016-11-14 : 76.0\n",
      "USC00519281 : 2016-11-15 : 76.0\n",
      "USC00519281 : 2016-11-16 : 75.0\n",
      "USC00519281 : 2016-11-17 : 76.0\n",
      "USC00519281 : 2016-11-18 : 75.0\n",
      "USC00519281 : 2016-11-19 : 73.0\n",
      "USC00519281 : 2016-11-20 : 75.0\n",
      "USC00519281 : 2016-11-21 : 73.0\n",
      "USC00519281 : 2016-11-22 : 75.0\n",
      "USC00519281 : 2016-11-23 : 74.0\n",
      "USC00519281 : 2016-11-24 : 75.0\n",
      "USC00519281 : 2016-11-25 : 74.0\n",
      "USC00519281 : 2016-11-26 : 75.0\n",
      "USC00519281 : 2016-11-27 : 73.0\n",
      "USC00519281 : 2016-11-28 : 75.0\n",
      "USC00519281 : 2016-11-29 : 73.0\n",
      "USC00519281 : 2016-11-30 : 73.0\n",
      "USC00519281 : 2016-12-01 : 74.0\n",
      "USC00519281 : 2016-12-02 : 70.0\n",
      "USC00519281 : 2016-12-03 : 72.0\n",
      "USC00519281 : 2016-12-04 : 70.0\n",
      "USC00519281 : 2016-12-05 : 67.0\n",
      "USC00519281 : 2016-12-06 : 67.0\n",
      "USC00519281 : 2016-12-07 : 69.0\n",
      "USC00519281 : 2016-12-08 : 70.0\n",
      "USC00519281 : 2016-12-09 : 68.0\n",
      "USC00519281 : 2016-12-10 : 69.0\n",
      "USC00519281 : 2016-12-11 : 69.0\n",
      "USC00519281 : 2016-12-12 : 66.0\n",
      "USC00519281 : 2016-12-13 : 65.0\n",
      "USC00519281 : 2016-12-14 : 68.0\n",
      "USC00519281 : 2016-12-15 : 62.0\n",
      "USC00519281 : 2016-12-16 : 75.0\n",
      "USC00519281 : 2016-12-17 : 70.0\n",
      "USC00519281 : 2016-12-18 : 69.0\n",
      "USC00519281 : 2016-12-19 : 76.0\n",
      "USC00519281 : 2016-12-20 : 76.0\n",
      "USC00519281 : 2016-12-21 : 74.0\n",
      "USC00519281 : 2016-12-22 : 73.0\n",
      "USC00519281 : 2016-12-23 : 71.0\n",
      "USC00519281 : 2016-12-24 : 74.0\n",
      "USC00519281 : 2016-12-25 : 74.0\n",
      "USC00519281 : 2016-12-26 : 72.0\n",
      "USC00519281 : 2016-12-27 : 71.0\n",
      "USC00519281 : 2016-12-28 : 72.0\n",
      "USC00519281 : 2016-12-29 : 74.0\n",
      "USC00519281 : 2016-12-30 : 69.0\n",
      "USC00519281 : 2016-12-31 : 67.0\n",
      "USC00519281 : 2017-01-01 : 72.0\n",
      "USC00519281 : 2017-01-02 : 70.0\n",
      "USC00519281 : 2017-01-03 : 64.0\n",
      "USC00519281 : 2017-01-04 : 63.0\n",
      "USC00519281 : 2017-01-05 : 63.0\n",
      "USC00519281 : 2017-01-06 : 62.0\n",
      "USC00519281 : 2017-01-07 : 70.0\n",
      "USC00519281 : 2017-01-08 : 70.0\n",
      "USC00519281 : 2017-01-09 : 62.0\n",
      "USC00519281 : 2017-01-10 : 62.0\n",
      "USC00519281 : 2017-01-11 : 63.0\n",
      "USC00519281 : 2017-01-12 : 65.0\n",
      "USC00519281 : 2017-01-13 : 69.0\n",
      "USC00519281 : 2017-01-14 : 77.0\n",
      "USC00519281 : 2017-01-15 : 70.0\n",
      "USC00519281 : 2017-01-16 : 74.0\n",
      "USC00519281 : 2017-01-17 : 69.0\n",
      "USC00519281 : 2017-01-18 : 72.0\n",
      "USC00519281 : 2017-01-19 : 71.0\n",
      "USC00519281 : 2017-01-20 : 69.0\n",
      "USC00519281 : 2017-01-21 : 71.0\n",
      "USC00519281 : 2017-01-22 : 71.0\n",
      "USC00519281 : 2017-01-23 : 72.0\n",
      "USC00519281 : 2017-01-24 : 72.0\n",
      "USC00519281 : 2017-01-25 : 69.0\n",
      "USC00519281 : 2017-01-26 : 70.0\n",
      "USC00519281 : 2017-01-27 : 66.0\n",
      "USC00519281 : 2017-01-28 : 65.0\n",
      "USC00519281 : 2017-01-29 : 69.0\n",
      "USC00519281 : 2017-01-30 : 68.0\n",
      "USC00519281 : 2017-01-31 : 68.0\n",
      "USC00519281 : 2017-02-01 : 68.0\n",
      "USC00519281 : 2017-02-02 : 59.0\n",
      "USC00519281 : 2017-02-03 : 60.0\n",
      "USC00519281 : 2017-02-04 : 70.0\n",
      "USC00519281 : 2017-02-05 : 73.0\n",
      "USC00519281 : 2017-02-06 : 75.0\n",
      "USC00519281 : 2017-02-07 : 64.0\n",
      "USC00519281 : 2017-02-08 : 59.0\n",
      "USC00519281 : 2017-02-09 : 59.0\n",
      "USC00519281 : 2017-02-10 : 62.0\n",
      "USC00519281 : 2017-02-11 : 68.0\n",
      "USC00519281 : 2017-02-12 : 70.0\n",
      "USC00519281 : 2017-02-13 : 73.0\n",
      "USC00519281 : 2017-02-14 : 79.0\n",
      "USC00519281 : 2017-02-15 : 75.0\n",
      "USC00519281 : 2017-02-16 : 65.0\n",
      "USC00519281 : 2017-02-17 : 70.0\n",
      "USC00519281 : 2017-02-18 : 74.0\n",
      "USC00519281 : 2017-02-19 : 70.0\n",
      "USC00519281 : 2017-02-20 : 70.0\n",
      "USC00519281 : 2017-02-21 : 71.0\n",
      "USC00519281 : 2017-02-22 : 71.0\n",
      "USC00519281 : 2017-02-23 : 71.0\n",
      "USC00519281 : 2017-02-24 : 69.0\n",
      "USC00519281 : 2017-02-25 : 61.0\n",
      "USC00519281 : 2017-02-26 : 67.0\n",
      "USC00519281 : 2017-02-27 : 65.0\n",
      "USC00519281 : 2017-02-28 : 72.0\n",
      "USC00519281 : 2017-03-01 : 71.0\n",
      "USC00519281 : 2017-03-02 : 73.0\n",
      "USC00519281 : 2017-03-03 : 72.0\n",
      "USC00519281 : 2017-03-04 : 77.0\n",
      "USC00519281 : 2017-03-05 : 73.0\n",
      "USC00519281 : 2017-03-06 : 67.0\n",
      "USC00519281 : 2017-03-07 : 62.0\n",
      "USC00519281 : 2017-03-08 : 64.0\n",
      "USC00519281 : 2017-03-09 : 67.0\n",
      "USC00519281 : 2017-03-10 : 66.0\n",
      "USC00519281 : 2017-03-11 : 81.0\n",
      "USC00519281 : 2017-03-12 : 69.0\n",
      "USC00519281 : 2017-03-13 : 66.0\n",
      "USC00519281 : 2017-03-14 : 67.0\n",
      "USC00519281 : 2017-03-15 : 69.0\n",
      "USC00519281 : 2017-03-16 : 66.0\n",
      "USC00519281 : 2017-03-17 : 68.0\n",
      "USC00519281 : 2017-03-18 : 65.0\n",
      "USC00519281 : 2017-03-19 : 74.0\n",
      "USC00519281 : 2017-03-20 : 69.0\n",
      "USC00519281 : 2017-03-21 : 72.0\n",
      "USC00519281 : 2017-03-22 : 73.0\n",
      "USC00519281 : 2017-03-23 : 72.0\n",
      "USC00519281 : 2017-03-24 : 71.0\n",
      "USC00519281 : 2017-03-25 : 76.0\n",
      "USC00519281 : 2017-03-26 : 77.0\n",
      "USC00519281 : 2017-03-27 : 76.0\n",
      "USC00519281 : 2017-03-28 : 74.0\n",
      "USC00519281 : 2017-03-29 : 68.0\n",
      "USC00519281 : 2017-03-30 : 73.0\n",
      "USC00519281 : 2017-03-31 : 71.0\n",
      "USC00519281 : 2017-04-01 : 74.0\n",
      "USC00519281 : 2017-04-02 : 75.0\n",
      "USC00519281 : 2017-04-03 : 70.0\n",
      "USC00519281 : 2017-04-04 : 67.0\n",
      "USC00519281 : 2017-04-05 : 71.0\n",
      "USC00519281 : 2017-04-06 : 67.0\n",
      "USC00519281 : 2017-04-07 : 74.0\n",
      "USC00519281 : 2017-04-08 : 77.0\n",
      "USC00519281 : 2017-04-09 : 78.0\n",
      "USC00519281 : 2017-04-10 : 67.0\n",
      "USC00519281 : 2017-04-11 : 70.0\n",
      "USC00519281 : 2017-04-12 : 69.0\n",
      "USC00519281 : 2017-04-13 : 69.0\n",
      "USC00519281 : 2017-04-14 : 74.0\n",
      "USC00519281 : 2017-04-15 : 78.0\n",
      "USC00519281 : 2017-04-16 : 71.0\n",
      "USC00519281 : 2017-04-17 : 67.0\n",
      "USC00519281 : 2017-04-18 : 68.0\n",
      "USC00519281 : 2017-04-19 : 67.0\n",
      "USC00519281 : 2017-04-20 : 76.0\n",
      "USC00519281 : 2017-04-21 : 69.0\n",
      "USC00519281 : 2017-04-22 : 72.0\n",
      "USC00519281 : 2017-04-23 : 76.0\n",
      "USC00519281 : 2017-04-24 : 68.0\n",
      "USC00519281 : 2017-04-25 : 72.0\n",
      "USC00519281 : 2017-04-26 : 74.0\n",
      "USC00519281 : 2017-04-27 : 70.0\n",
      "USC00519281 : 2017-04-28 : 67.0\n",
      "USC00519281 : 2017-04-29 : 72.0\n",
      "USC00519281 : 2017-04-30 : 60.0\n",
      "USC00519281 : 2017-05-01 : 65.0\n",
      "USC00519281 : 2017-05-02 : 75.0\n",
      "USC00519281 : 2017-05-03 : 70.0\n",
      "USC00519281 : 2017-05-04 : 75.0\n",
      "USC00519281 : 2017-05-05 : 70.0\n",
      "USC00519281 : 2017-05-06 : 79.0\n",
      "USC00519281 : 2017-05-07 : 75.0\n",
      "USC00519281 : 2017-05-08 : 70.0\n",
      "USC00519281 : 2017-05-09 : 67.0\n",
      "USC00519281 : 2017-05-10 : 74.0\n",
      "USC00519281 : 2017-05-11 : 70.0\n",
      "USC00519281 : 2017-05-12 : 75.0\n",
      "USC00519281 : 2017-05-13 : 76.0\n",
      "USC00519281 : 2017-05-14 : 77.0\n",
      "USC00519281 : 2017-05-15 : 74.0\n",
      "USC00519281 : 2017-05-16 : 74.0\n",
      "USC00519281 : 2017-05-17 : 74.0\n",
      "USC00519281 : 2017-05-18 : 69.0\n",
      "USC00519281 : 2017-05-19 : 68.0\n",
      "USC00519281 : 2017-05-20 : 76.0\n",
      "USC00519281 : 2017-05-21 : 74.0\n",
      "USC00519281 : 2017-05-22 : 71.0\n",
      "USC00519281 : 2017-05-23 : 71.0\n",
      "USC00519281 : 2017-05-24 : 74.0\n",
      "USC00519281 : 2017-05-25 : 74.0\n",
      "USC00519281 : 2017-05-26 : 74.0\n",
      "USC00519281 : 2017-05-27 : 74.0\n",
      "USC00519281 : 2017-05-28 : 80.0\n",
      "USC00519281 : 2017-05-29 : 74.0\n",
      "USC00519281 : 2017-05-30 : 72.0\n",
      "USC00519281 : 2017-05-31 : 75.0\n",
      "USC00519281 : 2017-06-01 : 80.0\n",
      "USC00519281 : 2017-06-02 : 76.0\n",
      "USC00519281 : 2017-06-03 : 76.0\n",
      "USC00519281 : 2017-06-04 : 77.0\n",
      "USC00519281 : 2017-06-05 : 75.0\n",
      "USC00519281 : 2017-06-06 : 75.0\n",
      "USC00519281 : 2017-06-07 : 75.0\n",
      "USC00519281 : 2017-06-08 : 75.0\n",
      "USC00519281 : 2017-06-09 : 72.0\n",
      "USC00519281 : 2017-06-10 : 74.0\n",
      "USC00519281 : 2017-06-11 : 74.0\n",
      "USC00519281 : 2017-06-12 : 74.0\n",
      "USC00519281 : 2017-06-13 : 76.0\n",
      "USC00519281 : 2017-06-14 : 74.0\n",
      "USC00519281 : 2017-06-15 : 75.0\n",
      "USC00519281 : 2017-06-16 : 73.0\n",
      "USC00519281 : 2017-06-17 : 79.0\n",
      "USC00519281 : 2017-06-18 : 75.0\n",
      "USC00519281 : 2017-06-19 : 72.0\n",
      "USC00519281 : 2017-06-20 : 72.0\n",
      "USC00519281 : 2017-06-21 : 74.0\n",
      "USC00519281 : 2017-06-22 : 72.0\n",
      "USC00519281 : 2017-06-23 : 72.0\n",
      "USC00519281 : 2017-06-24 : 77.0\n",
      "USC00519281 : 2017-06-25 : 71.0\n",
      "USC00519281 : 2017-06-26 : 73.0\n",
      "USC00519281 : 2017-06-27 : 76.0\n",
      "USC00519281 : 2017-06-28 : 77.0\n",
      "USC00519281 : 2017-06-29 : 76.0\n",
      "USC00519281 : 2017-06-30 : 76.0\n",
      "USC00519281 : 2017-07-01 : 79.0\n",
      "USC00519281 : 2017-07-02 : 81.0\n",
      "USC00519281 : 2017-07-03 : 76.0\n",
      "USC00519281 : 2017-07-04 : 78.0\n",
      "USC00519281 : 2017-07-05 : 77.0\n",
      "USC00519281 : 2017-07-06 : 74.0\n",
      "USC00519281 : 2017-07-07 : 75.0\n",
      "USC00519281 : 2017-07-08 : 78.0\n",
      "USC00519281 : 2017-07-09 : 78.0\n",
      "USC00519281 : 2017-07-10 : 69.0\n",
      "USC00519281 : 2017-07-11 : 72.0\n",
      "USC00519281 : 2017-07-12 : 74.0\n",
      "USC00519281 : 2017-07-13 : 74.0\n",
      "USC00519281 : 2017-07-14 : 76.0\n",
      "USC00519281 : 2017-07-15 : 80.0\n",
      "USC00519281 : 2017-07-16 : 80.0\n",
      "USC00519281 : 2017-07-17 : 76.0\n",
      "USC00519281 : 2017-07-18 : 76.0\n",
      "USC00519281 : 2017-07-19 : 76.0\n",
      "USC00519281 : 2017-07-20 : 77.0\n",
      "USC00519281 : 2017-07-21 : 77.0\n",
      "USC00519281 : 2017-07-22 : 77.0\n",
      "USC00519281 : 2017-07-23 : 82.0\n",
      "USC00519281 : 2017-07-24 : 75.0\n",
      "USC00519281 : 2017-07-25 : 77.0\n",
      "USC00519281 : 2017-07-26 : 75.0\n",
      "USC00519281 : 2017-07-27 : 76.0\n",
      "USC00519281 : 2017-07-28 : 81.0\n",
      "USC00519281 : 2017-07-29 : 82.0\n",
      "USC00519281 : 2017-07-30 : 81.0\n",
      "USC00519281 : 2017-07-31 : 76.0\n",
      "USC00519281 : 2017-08-04 : 77.0\n",
      "USC00519281 : 2017-08-05 : 82.0\n",
      "USC00519281 : 2017-08-06 : 83.0\n",
      "USC00519281 : 2017-08-13 : 77.0\n",
      "USC00519281 : 2017-08-14 : 77.0\n",
      "USC00519281 : 2017-08-15 : 77.0\n",
      "USC00519281 : 2017-08-16 : 76.0\n",
      "USC00519281 : 2017-08-17 : 76.0\n",
      "USC00519281 : 2017-08-18 : 79.0\n"
     ]
    }
   ],
   "source": [
    "# Choose the station with the highest number of temperature observations.\n",
    "# Query the last 12 months of temperature observation data for this station and plot the results as a histogram\n",
    "\n",
    "tobs = []\n",
    "measurements = session.query(Measurement).filter(Measurement.date >= year_before).filter(Measurement.station == station_id) \n",
    "for measurement in measurements:\n",
    "    print(f\"{measurement.station} : {measurement.date} : {measurement.tobs}\")\n",
    "    tobs.append(measurement.tobs)"
   ]
  },
  {
   "cell_type": "code",
   "execution_count": 66,
   "metadata": {},
   "outputs": [
    {
     "data": {
      "image/png": "[encoded data removed]",
      "text/plain": [
       "<Figure size 432x288 with 1 Axes>"
      ]
     },
     "metadata": {},
     "output_type": "display_data"
    }
   ],
   "source": [
    "plt.hist(tobs, bins=24, range = [min(tobs),max(tobs)])\n",
    "plt.xlabel('Temperature in F')\n",
    "plt.ylabel('Counts')\n",
    "plt.show()"
   ]
  },
  {
   "cell_type": "markdown",
   "metadata": {},
   "source": [
    "## Bonus Challenge Assignment"
   ]
  },
  {
   "cell_type": "code",
   "execution_count": 67,
   "metadata": {},
   "outputs": [
    {
     "name": "stdout",
     "output_type": "stream",
     "text": [
      "[(62.0, 69.57142857142857, 74.0)]\n"
     ]
    }
   ],
   "source": [
    "# This function called `calc_temps` will accept start date and end date in the format '%Y-%m-%d' \n",
    "# and return the minimum, average, and maximum temperatures for that range of dates\n",
    "def calc_temps(start_date, end_date):\n",
    "    \"\"\"TMIN, TAVG, and TMAX for a list of dates.\n",
    "    \n",
    "    Args:\n",
    "        start_date (string): A date string in the format %Y-%m-%d\n",
    "        end_date (string): A date string in the format %Y-%m-%d\n",
    "        \n",
    "    Returns:\n",
    "        TMIN, TAVE, and TMAX\n",
    "    \"\"\"\n",
    "    \n",
    "    return session.query(func.min(Measurement.tobs), func.avg(Measurement.tobs), func.max(Measurement.tobs)).\\\n",
    "        filter(Measurement.date >= start_date).filter(Measurement.date <= end_date).all()\n",
    "\n",
    "# function usage example\n",
    "print(calc_temps('2012-02-28', '2012-03-05'))"
   ]
  },
  {
   "cell_type": "code",
   "execution_count": 68,
   "metadata": {},
   "outputs": [
    {
     "data": {
      "text/plain": [
       "[(58.0, 74.59058295964125, 87.0)]"
      ]
     },
     "execution_count": 68,
     "metadata": {},
     "output_type": "execute_result"
    }
   ],
   "source": [
    "# Use your previous function `calc_temps` to calculate the tmin, tavg, and tmax \n",
    "# for your trip using the previous year's data for those same dates.\n",
    "calc_temps(year_before,date)"
   ]
  }
 ],
 "metadata": {
  "kernel_info": {
   "name": "python3"
  },
  "kernelspec": {
   "display_name": "Python 3",
   "language": "python",
   "name": "python3"
  },
  "language_info": {
   "codemirror_mode": {
    "name": "ipython",
    "version": 3
   },
   "file_extension": ".py",
   "mimetype": "text/x-python",
   "name": "python",
   "nbconvert_exporter": "python",
   "pygments_lexer": "ipython3",
   "version": "3.6.10"
  },
  "nteract": {
   "version": "0.12.3"
  },
  "varInspector": {
   "cols": {
    "lenName": 16,
    "lenType": 16,
    "lenVar": 40
   },
   "kernels_config": {
    "python": {
     "delete_cmd_postfix": "",
     "delete_cmd_prefix": "del ",
     "library": "var_list.py",
     "varRefreshCmd": "print(var_dic_list())"
    },
    "r": {
     "delete_cmd_postfix": ") ",
     "delete_cmd_prefix": "rm(",
     "library": "var_list.r",
     "varRefreshCmd": "cat(var_dic_list()) "
    }
   },
   "types_to_exclude": [
    "module",
    "function",
    "builtin_function_or_method",
    "instance",
    "_Feature"
   ],
   "window_display": false
  }
 },
 "nbformat": 4,
 "nbformat_minor": 2
}
